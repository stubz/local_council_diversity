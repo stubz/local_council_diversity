{
 "cells": [
  {
   "cell_type": "markdown",
   "metadata": {},
   "source": [
    "## Import Data: Election result in Yamanashi prefecture and Bugdet solvency by town\n",
    "\n",
    "The election results in Yamanashi prefecture have been downloaded by scraping 選挙ドットコム, and the budget solvency data have been downloaded from 地域番付 web site. The solvency score is defined as the budget income expense divided by the budget expense, so it takes 1 if the budget balances and takes less than 1 if the local government spends more than it earns via tax.\n",
    "\n",
    "Our hypothesis is that towns with higher divirsity score tends to have higher the budget solvency score, and we are going to validate it with the data."
   ]
  },
  {
   "cell_type": "code",
   "execution_count": 1,
   "metadata": {},
   "outputs": [],
   "source": [
    "import pandas as pd\n",
    "\n",
    "zaisei = pd.read_table(\"./data/地方自治体財政健全力.tsv\", sep='\\t')\n",
    "df_all = pd.read_csv('./data/election_result_yamanashi.txt', sep='\\t')\n"
   ]
  },
  {
   "cell_type": "markdown",
   "metadata": {},
   "source": [
    "The data on the budget solvency in Japan has town-level granularity, and the election result data have candidate-level guranularity. To merge the data, we first summarise the election result by town level. By so doing, we also calculate the diversity metric for each town, which is the skewness in the gender and age distribution."
   ]
  },
  {
   "cell_type": "code",
   "execution_count": 3,
   "metadata": {},
   "outputs": [
    {
     "name": "stderr",
     "output_type": "stream",
     "text": [
      "/Users/okada/anaconda3/envs/datascience/lib/python3.7/site-packages/ipykernel_launcher.py:3: FutureWarning: Indexing with multiple keys (implicitly converted to a tuple of keys) will be deprecated, use a list instead.\n",
      "  This is separate from the ipykernel package so we can avoid doing imports until\n",
      "/Users/okada/anaconda3/envs/datascience/lib/python3.7/site-packages/ipykernel_launcher.py:7: FutureWarning: Indexing with multiple keys (implicitly converted to a tuple of keys) will be deprecated, use a list instead.\n",
      "  import sys\n",
      "/Users/okada/anaconda3/envs/datascience/lib/python3.7/site-packages/ipykernel_launcher.py:11: FutureWarning: Indexing with multiple keys (implicitly converted to a tuple of keys) will be deprecated, use a list instead.\n",
      "  # This is added back by InteractiveShellApp.init_path()\n"
     ]
    },
    {
     "data": {
      "text/html": [
       "<div>\n",
       "<style scoped>\n",
       "    .dataframe tbody tr th:only-of-type {\n",
       "        vertical-align: middle;\n",
       "    }\n",
       "\n",
       "    .dataframe tbody tr th {\n",
       "        vertical-align: top;\n",
       "    }\n",
       "\n",
       "    .dataframe thead th {\n",
       "        text-align: right;\n",
       "    }\n",
       "</style>\n",
       "<table border=\"1\" class=\"dataframe\">\n",
       "  <thead>\n",
       "    <tr style=\"text-align: right;\">\n",
       "      <th></th>\n",
       "      <th>prefecture</th>\n",
       "      <th>town</th>\n",
       "      <th>town_name</th>\n",
       "      <th>skew_age</th>\n",
       "      <th>skew_male_percentage</th>\n",
       "    </tr>\n",
       "  </thead>\n",
       "  <tbody>\n",
       "    <tr>\n",
       "      <th>0</th>\n",
       "      <td>山梨県</td>\n",
       "      <td>上野原市議会議員選挙</td>\n",
       "      <td>上野原市</td>\n",
       "      <td>-1.178384</td>\n",
       "      <td>-4.000000</td>\n",
       "    </tr>\n",
       "    <tr>\n",
       "      <th>1</th>\n",
       "      <td>山梨県</td>\n",
       "      <td>中央市議会議員選挙</td>\n",
       "      <td>中央市</td>\n",
       "      <td>-1.389266</td>\n",
       "      <td>-1.955761</td>\n",
       "    </tr>\n",
       "    <tr>\n",
       "      <th>2</th>\n",
       "      <td>山梨県</td>\n",
       "      <td>丹波山村議会議員選挙</td>\n",
       "      <td>丹波山村</td>\n",
       "      <td>-0.749703</td>\n",
       "      <td>0.000000</td>\n",
       "    </tr>\n",
       "    <tr>\n",
       "      <th>3</th>\n",
       "      <td>山梨県</td>\n",
       "      <td>北杜市議会議員選挙</td>\n",
       "      <td>北杜市</td>\n",
       "      <td>-1.498535</td>\n",
       "      <td>-3.058676</td>\n",
       "    </tr>\n",
       "    <tr>\n",
       "      <th>4</th>\n",
       "      <td>山梨県</td>\n",
       "      <td>南アルプス市議会議員選挙</td>\n",
       "      <td>南アルプス市</td>\n",
       "      <td>-1.382656</td>\n",
       "      <td>-3.058676</td>\n",
       "    </tr>\n",
       "  </tbody>\n",
       "</table>\n",
       "</div>"
      ],
      "text/plain": [
       "  prefecture          town town_name  skew_age  skew_male_percentage\n",
       "0        山梨県    上野原市議会議員選挙      上野原市 -1.178384             -4.000000\n",
       "1        山梨県     中央市議会議員選挙       中央市 -1.389266             -1.955761\n",
       "2        山梨県    丹波山村議会議員選挙      丹波山村 -0.749703              0.000000\n",
       "3        山梨県     北杜市議会議員選挙       北杜市 -1.498535             -3.058676\n",
       "4        山梨県  南アルプス市議会議員選挙    南アルプス市 -1.382656             -3.058676"
      ]
     },
     "execution_count": 3,
     "metadata": {},
     "output_type": "execute_result"
    }
   ],
   "source": [
    "# mean\n",
    "df_smry_town_mean = df_all[(df_all.is_elected=='Y') & (df_all.prefecture=='山梨県')].\\\n",
    "    groupby(['prefecture','town','town_name'])['age','is_male'].\\\n",
    "    mean().reset_index().rename(columns={'age':'mean_age', 'is_male':'mean_male_percentage'})\n",
    "\n",
    "df_smry_town_std = df_all[(df_all.is_elected=='Y') & (df_all.prefecture=='山梨県')].\\\n",
    "    groupby(['prefecture','town','town_name'])['age','is_male'].\\\n",
    "    std().reset_index().rename(columns={'age':'std_age', 'is_male':'std_male_percentage'})\n",
    "\n",
    "df_smry_town_skew = df_all[(df_all.is_elected=='Y') & (df_all.prefecture=='山梨県')].\\\n",
    "    groupby(['prefecture','town','town_name'])['age','is_male'].\\\n",
    "    skew().reset_index().rename(columns={'age':'skew_age', 'is_male':'skew_male_percentage'})\n",
    "\n",
    "df_smry_town_skew.head(5)"
   ]
  },
  {
   "cell_type": "markdown",
   "metadata": {},
   "source": [
    "We combine the summarised data together to form one data set."
   ]
  },
  {
   "cell_type": "code",
   "execution_count": 5,
   "metadata": {},
   "outputs": [
    {
     "data": {
      "text/html": [
       "<div>\n",
       "<style scoped>\n",
       "    .dataframe tbody tr th:only-of-type {\n",
       "        vertical-align: middle;\n",
       "    }\n",
       "\n",
       "    .dataframe tbody tr th {\n",
       "        vertical-align: top;\n",
       "    }\n",
       "\n",
       "    .dataframe thead th {\n",
       "        text-align: right;\n",
       "    }\n",
       "</style>\n",
       "<table border=\"1\" class=\"dataframe\">\n",
       "  <thead>\n",
       "    <tr style=\"text-align: right;\">\n",
       "      <th></th>\n",
       "      <th>prefecture</th>\n",
       "      <th>town</th>\n",
       "      <th>town_name</th>\n",
       "      <th>mean_age</th>\n",
       "      <th>mean_male_percentage</th>\n",
       "      <th>std_age</th>\n",
       "      <th>std_male_percentage</th>\n",
       "      <th>skew_age</th>\n",
       "      <th>skew_male_percentage</th>\n",
       "    </tr>\n",
       "  </thead>\n",
       "  <tbody>\n",
       "    <tr>\n",
       "      <th>0</th>\n",
       "      <td>山梨県</td>\n",
       "      <td>上野原市議会議員選挙</td>\n",
       "      <td>上野原市</td>\n",
       "      <td>68.187500</td>\n",
       "      <td>0.937500</td>\n",
       "      <td>10.173290</td>\n",
       "      <td>0.250000</td>\n",
       "      <td>-1.178384</td>\n",
       "      <td>-4.000000</td>\n",
       "    </tr>\n",
       "    <tr>\n",
       "      <th>1</th>\n",
       "      <td>山梨県</td>\n",
       "      <td>中央市議会議員選挙</td>\n",
       "      <td>中央市</td>\n",
       "      <td>62.666667</td>\n",
       "      <td>0.833333</td>\n",
       "      <td>10.312756</td>\n",
       "      <td>0.383482</td>\n",
       "      <td>-1.389266</td>\n",
       "      <td>-1.955761</td>\n",
       "    </tr>\n",
       "    <tr>\n",
       "      <th>2</th>\n",
       "      <td>山梨県</td>\n",
       "      <td>丹波山村議会議員選挙</td>\n",
       "      <td>丹波山村</td>\n",
       "      <td>53.500000</td>\n",
       "      <td>1.000000</td>\n",
       "      <td>12.723993</td>\n",
       "      <td>0.000000</td>\n",
       "      <td>-0.749703</td>\n",
       "      <td>0.000000</td>\n",
       "    </tr>\n",
       "  </tbody>\n",
       "</table>\n",
       "</div>"
      ],
      "text/plain": [
       "  prefecture        town town_name   mean_age  mean_male_percentage  \\\n",
       "0        山梨県  上野原市議会議員選挙      上野原市  68.187500              0.937500   \n",
       "1        山梨県   中央市議会議員選挙       中央市  62.666667              0.833333   \n",
       "2        山梨県  丹波山村議会議員選挙      丹波山村  53.500000              1.000000   \n",
       "\n",
       "     std_age  std_male_percentage  skew_age  skew_male_percentage  \n",
       "0  10.173290             0.250000 -1.178384             -4.000000  \n",
       "1  10.312756             0.383482 -1.389266             -1.955761  \n",
       "2  12.723993             0.000000 -0.749703              0.000000  "
      ]
     },
     "execution_count": 5,
     "metadata": {},
     "output_type": "execute_result"
    }
   ],
   "source": [
    "df_smry_town = df_smry_town_mean.\\\n",
    "    merge(df_smry_town_std, on=['prefecture','town','town_name'], how='inner').\\\n",
    "    merge(df_smry_town_skew, on=['prefecture','town','town_name'], how='inner')\n",
    "df_smry_town.head(3)"
   ]
  },
  {
   "cell_type": "markdown",
   "metadata": {},
   "source": [
    "The data have the prefecture name, town name, the mean, the standard deviation and the skewness of age and male percentage. We can now merge the data with the budget solvency data that have the town-level granularity."
   ]
  },
  {
   "cell_type": "code",
   "execution_count": 6,
   "metadata": {},
   "outputs": [
    {
     "data": {
      "text/html": [
       "<div>\n",
       "<style scoped>\n",
       "    .dataframe tbody tr th:only-of-type {\n",
       "        vertical-align: middle;\n",
       "    }\n",
       "\n",
       "    .dataframe tbody tr th {\n",
       "        vertical-align: top;\n",
       "    }\n",
       "\n",
       "    .dataframe thead th {\n",
       "        text-align: right;\n",
       "    }\n",
       "</style>\n",
       "<table border=\"1\" class=\"dataframe\">\n",
       "  <thead>\n",
       "    <tr style=\"text-align: right;\">\n",
       "      <th></th>\n",
       "      <th>prefecture</th>\n",
       "      <th>town_x</th>\n",
       "      <th>town_name</th>\n",
       "      <th>mean_age</th>\n",
       "      <th>mean_male_percentage</th>\n",
       "      <th>std_age</th>\n",
       "      <th>std_male_percentage</th>\n",
       "      <th>skew_age</th>\n",
       "      <th>skew_male_percentage</th>\n",
       "      <th>score</th>\n",
       "    </tr>\n",
       "  </thead>\n",
       "  <tbody>\n",
       "    <tr>\n",
       "      <th>0</th>\n",
       "      <td>山梨県</td>\n",
       "      <td>上野原市議会議員選挙</td>\n",
       "      <td>上野原市</td>\n",
       "      <td>68.187500</td>\n",
       "      <td>0.937500</td>\n",
       "      <td>10.173290</td>\n",
       "      <td>0.250000</td>\n",
       "      <td>-1.178384</td>\n",
       "      <td>-4.000000</td>\n",
       "      <td>0.50</td>\n",
       "    </tr>\n",
       "    <tr>\n",
       "      <th>1</th>\n",
       "      <td>山梨県</td>\n",
       "      <td>中央市議会議員選挙</td>\n",
       "      <td>中央市</td>\n",
       "      <td>62.666667</td>\n",
       "      <td>0.833333</td>\n",
       "      <td>10.312756</td>\n",
       "      <td>0.383482</td>\n",
       "      <td>-1.389266</td>\n",
       "      <td>-1.955761</td>\n",
       "      <td>0.73</td>\n",
       "    </tr>\n",
       "    <tr>\n",
       "      <th>2</th>\n",
       "      <td>山梨県</td>\n",
       "      <td>丹波山村議会議員選挙</td>\n",
       "      <td>丹波山村</td>\n",
       "      <td>53.500000</td>\n",
       "      <td>1.000000</td>\n",
       "      <td>12.723993</td>\n",
       "      <td>0.000000</td>\n",
       "      <td>-0.749703</td>\n",
       "      <td>0.000000</td>\n",
       "      <td>0.05</td>\n",
       "    </tr>\n",
       "  </tbody>\n",
       "</table>\n",
       "</div>"
      ],
      "text/plain": [
       "  prefecture      town_x town_name   mean_age  mean_male_percentage  \\\n",
       "0        山梨県  上野原市議会議員選挙      上野原市  68.187500              0.937500   \n",
       "1        山梨県   中央市議会議員選挙       中央市  62.666667              0.833333   \n",
       "2        山梨県  丹波山村議会議員選挙      丹波山村  53.500000              1.000000   \n",
       "\n",
       "     std_age  std_male_percentage  skew_age  skew_male_percentage  score  \n",
       "0  10.173290             0.250000 -1.178384             -4.000000   0.50  \n",
       "1  10.312756             0.383482 -1.389266             -1.955761   0.73  \n",
       "2  12.723993             0.000000 -0.749703              0.000000   0.05  "
      ]
     },
     "execution_count": 6,
     "metadata": {},
     "output_type": "execute_result"
    }
   ],
   "source": [
    "df_smry_town_final = df_smry_town.\\\n",
    "    merge(zaisei, left_on='town_name', right_on='town', how='left').\\\n",
    "    drop(['town_y','pref'], axis=1)\n",
    "df_smry_town_final.to_csv('./data/election_result_yamanashi_summary.tsv', sep='\\t', index=False)\n",
    "df_smry_town_final.head(3)\n"
   ]
  },
  {
   "cell_type": "markdown",
   "metadata": {},
   "source": [
    "## Exploratory Data Analysis\n",
    "We will first conduct a quick initial analysis to see the distribution of the data and the correlation among the variables. Our hypotheis is that \n",
    "\n",
    "1. The diversity of the council member positivly contributes the performance of the council in terms of the budget solvency.\n",
    "2. If the hypothesis holds, we should be able to see the correaltion between the solvency and the diversity of the local council members.\n",
    "\n",
    "We measure the diversity by the skewness of the data. Our variable ```is_male``` is 1 if the council member is male and 0 otherwise. The skewness is 0 if the number of male and female members is equal, and negative if the percentage of male members is greater than 50%. By the same token, the skewness of the age of each council member is zero if we have equal number of members for each age group, and it is negative when the number of elderly members is high."
   ]
  },
  {
   "cell_type": "markdown",
   "metadata": {},
   "source": [
    "### Correlation coefficient"
   ]
  },
  {
   "cell_type": "code",
   "execution_count": 9,
   "metadata": {},
   "outputs": [
    {
     "data": {
      "text/html": [
       "<div>\n",
       "<style scoped>\n",
       "    .dataframe tbody tr th:only-of-type {\n",
       "        vertical-align: middle;\n",
       "    }\n",
       "\n",
       "    .dataframe tbody tr th {\n",
       "        vertical-align: top;\n",
       "    }\n",
       "\n",
       "    .dataframe thead th {\n",
       "        text-align: right;\n",
       "    }\n",
       "</style>\n",
       "<table border=\"1\" class=\"dataframe\">\n",
       "  <thead>\n",
       "    <tr style=\"text-align: right;\">\n",
       "      <th></th>\n",
       "      <th>score</th>\n",
       "      <th>skew_age</th>\n",
       "      <th>skew_male_percentage</th>\n",
       "    </tr>\n",
       "  </thead>\n",
       "  <tbody>\n",
       "    <tr>\n",
       "      <th>score</th>\n",
       "      <td>1.00</td>\n",
       "      <td>-0.27</td>\n",
       "      <td>-0.19</td>\n",
       "    </tr>\n",
       "    <tr>\n",
       "      <th>skew_age</th>\n",
       "      <td>-0.27</td>\n",
       "      <td>1.00</td>\n",
       "      <td>0.27</td>\n",
       "    </tr>\n",
       "    <tr>\n",
       "      <th>skew_male_percentage</th>\n",
       "      <td>-0.19</td>\n",
       "      <td>0.27</td>\n",
       "      <td>1.00</td>\n",
       "    </tr>\n",
       "  </tbody>\n",
       "</table>\n",
       "</div>"
      ],
      "text/plain": [
       "                      score  skew_age  skew_male_percentage\n",
       "score                  1.00     -0.27                 -0.19\n",
       "skew_age              -0.27      1.00                  0.27\n",
       "skew_male_percentage  -0.19      0.27                  1.00"
      ]
     },
     "execution_count": 9,
     "metadata": {},
     "output_type": "execute_result"
    }
   ],
   "source": [
    "import numpy as np\n",
    "np.round(df_smry_town_final[['score','skew_age','skew_male_percentage']].corr(), 2)"
   ]
  },
  {
   "cell_type": "markdown",
   "metadata": {},
   "source": [
    "The correlation coefficient matrix among the budget solvency score and the skewness of the age and the gender shows that the skewness, or our definition of the diversity, is negatively correlated with the budget solvency score. The skewness of the age has -0.27 correlation coefficient with the budget solvency score. It means that the budget solvency score tends to be low when the local council has more elderly people. Similarly, the skewness of the male has -0.19 correlation coefficient, which means that the budget solvency score tends to be low when the local council is dominated by male."
   ]
  },
  {
   "cell_type": "code",
   "execution_count": 21,
   "metadata": {},
   "outputs": [
    {
     "data": {
      "text/plain": [
       "Text(0, 0.5, 'Solvency Score')"
      ]
     },
     "execution_count": 21,
     "metadata": {},
     "output_type": "execute_result"
    },
    {
     "data": {
      "image/png": "[encoded data removed]",
      "text/plain": [
       "<Figure size 864x432 with 2 Axes>"
      ]
     },
     "metadata": {
      "needs_background": "light"
     },
     "output_type": "display_data"
    }
   ],
   "source": [
    "%matplotlib inline \n",
    "import matplotlib.pyplot as plt\n",
    "fig, ax = plt.subplots(1,2,figsize=(12,6))\n",
    "ax[0].scatter(df_smry_town_final.skew_age, df_smry_town_final.score)\n",
    "ax[0].set_xlabel('Skewness Age')\n",
    "ax[0].set_ylabel('Solvency Score')\n",
    "ax[1].scatter(df_smry_town_final.skew_male_percentage, df_smry_town_final.score)\n",
    "ax[1].set_xlabel('Skewness Male')\n",
    "ax[1].set_ylabel('Solvency Score')\n"
   ]
  },
  {
   "cell_type": "markdown",
   "metadata": {},
   "source": [
    "As illustrated in the graph above, the skewness of age and male seems to be negatively correlated with the solvency score."
   ]
  },
  {
   "cell_type": "markdown",
   "metadata": {},
   "source": [
    "## Conclusion and Further research\n",
    "\n",
    "We have conducted an exploratory analysis on the diversity in Japan's local counsil and its performance. The initial analysis suggests that the diversity has some positive impact on the budget solvency in the local town in Japan. We will need a further analysis on the data in the following points.\n",
    "\n",
    "#### 1. Doesn't this only apply to Yamanashi prefecture?\n",
    "\n",
    "Due to the limited time constraint, we were only able to collect data in Yamanashi prefecture that had the largest variation in the budget solvency compared with other prefectures. Yet this finding may only apply to this particular prefecture. We will need to collect the data on the diversity in the local counsil members of other prefectures. \n",
    "\n",
    "#### 2. Does this really suggest the causation?\n",
    "\n",
    "It may be the case that small towns and villages with a large population of elderly people naturally has low tax income, and due to the low number of young people its council lack the young members. To some exent, this may be true, but it does not explain the low number of female members. Having more variables to define the diversity will help establish the causal relationship. One possible variable is the diversity on the political ideas, which can be represented by the diversity in the political party that each member belongs to. \n",
    "\n",
    "#### 3. Is the budget solvency the right metric to measure the performance of the local council?\n",
    "\n",
    "The budget solvency may be the result of long time political activities instead of just one result of an election. To account for the long term impact on the budget solvency, it is worth collecting the same diversity score over the last 10 years for example and check wither the diversity score remains the same over the long time and see how the budget solvency changes. \n"
   ]
  },
  {
   "cell_type": "code",
   "execution_count": null,
   "metadata": {},
   "outputs": [],
   "source": []
  }
 ],
 "metadata": {
  "kernelspec": {
   "display_name": "Python 3",
   "language": "python",
   "name": "python3"
  },
  "language_info": {
   "codemirror_mode": {
    "name": "ipython",
    "version": 3
   },
   "file_extension": ".py",
   "mimetype": "text/x-python",
   "name": "python",
   "nbconvert_exporter": "python",
   "pygments_lexer": "ipython3",
   "version": "3.7.6"
  }
 },
 "nbformat": 4,
 "nbformat_minor": 4
}
